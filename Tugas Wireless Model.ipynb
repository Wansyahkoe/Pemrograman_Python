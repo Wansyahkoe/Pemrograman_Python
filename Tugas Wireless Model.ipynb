{
  "nbformat": 4,
  "nbformat_minor": 0,
  "metadata": {
    "colab": {
      "name": "Untitled1.ipynb",
      "provenance": [],
      "authorship_tag": "ABX9TyMensLwUhgfWqMbvMtD3bF5",
      "include_colab_link": true
    },
    "kernelspec": {
      "name": "python3",
      "display_name": "Python 3"
    }
  },
  "cells": [
    {
      "cell_type": "markdown",
      "metadata": {
        "id": "view-in-github",
        "colab_type": "text"
      },
      "source": [
        "<a href=\"https://colab.research.google.com/github/Wansyahkoe/Pemrograman_Python/blob/main/Tugas%20Wireless%20Model.ipynb\" target=\"_parent\"><img src=\"https://colab.research.google.com/assets/colab-badge.svg\" alt=\"Open In Colab\"/></a>"
      ]
    },
    {
      "cell_type": "code",
      "metadata": {
        "colab": {
          "base_uri": "https://localhost:8080/"
        },
        "id": "E3Eig1EvRRRI",
        "outputId": "add48df9-7ba5-44f7-d257-679267c90e2b"
      },
      "source": [
        "#MainProgramnyaIni\r\n",
        "d = int(input(\"Masukkan jarak yang diinginkan (Hitungan KM): \"))\r\n",
        "fc = int(input(\"Masukkan frekuensi yang diinginkan (150 MHz-2000 MHz): \"))\r\n",
        "a = input(\"Masukkan tipe area (urban/suburban/open): \")\r\n",
        "ht = int(input(\"Masukkan tinggi antena pemancar yang diinginkan (30-200 Meter): \"))\r\n",
        "hr = int(input(\"Masukkan tinggi antena penerima yang diinginkan (1-30 Meter): \"))"
      ],
      "execution_count": 43,
      "outputs": [
        {
          "output_type": "stream",
          "text": [
            "Masukkan jarak yang diinginkan (Hitungan KM): 70\n",
            "Masukkan frekuensi yang diinginkan (150 MHz-2000 MHz): 700\n",
            "Masukkan tipe area (urban/suburban/open): urban\n",
            "Masukkan tinggi antena pemancar yang diinginkan (30-200 Meter): 50\n",
            "Masukkan tinggi antena penerima yang diinginkan (1-30 Meter): 20\n"
          ],
          "name": "stdout"
        }
      ]
    },
    {
      "cell_type": "code",
      "metadata": {
        "id": "QaL-QfYcSW-w"
      },
      "source": [
        "import numpy as np"
      ],
      "execution_count": 44,
      "outputs": []
    },
    {
      "cell_type": "code",
      "metadata": {
        "id": "fibmptj7U18v"
      },
      "source": [
        "#Rumus\r\n",
        "NtL = lambda x: 10*np.log10(x)\r\n",
        "LtN = lambda x: 10**(x/10)"
      ],
      "execution_count": 45,
      "outputs": []
    },
    {
      "cell_type": "code",
      "metadata": {
        "id": "tfgiZ1UaSZXO"
      },
      "source": [
        "def satu (f):\r\n",
        "  if f in range (400,1500):\r\n",
        "    return 69.55\r\n",
        "\r\n",
        "  elif f in range (1500,2000):\r\n",
        "    return 46.3"
      ],
      "execution_count": 46,
      "outputs": []
    },
    {
      "cell_type": "code",
      "metadata": {
        "id": "D9OMxKQbTYOE"
      },
      "source": [
        "def dua (f):\r\n",
        "  if f in range (400,1500):\r\n",
        "    return 26.16\r\n",
        "\r\n",
        "  elif f in range (1500,2000):\r\n",
        "    return 33.9"
      ],
      "execution_count": 47,
      "outputs": []
    },
    {
      "cell_type": "code",
      "metadata": {
        "id": "EeV3ywN7TdnQ"
      },
      "source": [
        "def iniarea (a,fc):\r\n",
        "  if a ==  \"urban\":\r\n",
        "    return 0\r\n",
        "  if a == \"suburban\":\r\n",
        "    return -2*(np.log10(fc/28)**2 - 5.4)\r\n",
        "  if a == \"open\":\r\n",
        "    return -4.78*(np.log10(fc))**2 + 18.33*np.log10(fc) - 40.94    "
      ],
      "execution_count": 48,
      "outputs": []
    },
    {
      "cell_type": "code",
      "metadata": {
        "id": "ivyQd7ZWTqU-"
      },
      "source": [
        "def iniahr(f):\r\n",
        "  return (1.1*np.log10(f)-0.7)*hr - (1.56*np.log10(f)-0.8)"
      ],
      "execution_count": 49,
      "outputs": []
    },
    {
      "cell_type": "code",
      "metadata": {
        "id": "FZ5XgUGITx_6"
      },
      "source": [
        "c1 = satu(fc)\r\n",
        "c2 = dua(fc)\r\n",
        "cm = iniarea(a,fc)\r\n",
        "ahr = iniahr(fc)"
      ],
      "execution_count": 50,
      "outputs": []
    },
    {
      "cell_type": "code",
      "metadata": {
        "colab": {
          "base_uri": "https://localhost:8080/"
        },
        "id": "bCsuRSfNT8_p",
        "outputId": "cf3d5acb-2707-4ab2-956c-849f163405d4"
      },
      "source": [
        "print(c1)\r\n",
        "print(c2)\r\n",
        "print(cm)\r\n",
        "print(ahr)"
      ],
      "execution_count": 51,
      "outputs": [
        {
          "output_type": "stream",
          "text": [
            "69.55\n",
            "26.16\n",
            "0\n",
            "44.95380393789142\n"
          ],
          "name": "stdout"
        }
      ]
    },
    {
      "cell_type": "code",
      "metadata": {
        "colab": {
          "base_uri": "https://localhost:8080/"
        },
        "id": "MQdcy78jT_VX",
        "outputId": "36a629d8-1b6b-403d-ef5a-03e30ac8b97e"
      },
      "source": [
        "pldb = c1 + c2*np.log10(fc) - 13.83*np.log10(ht) - ahr + (44.9-6.55*np.log10(ht))*np.log10(d) + cm\r\n",
        "print(\"Pathloss yang ditemukan adalah: \" , pldb , \" db\")"
      ],
      "execution_count": 52,
      "outputs": [
        {
          "output_type": "stream",
          "text": [
            "Pathloss yang ditemukan adalah:  137.83938885152025  db\n"
          ],
          "name": "stdout"
        }
      ]
    }
  ]
}